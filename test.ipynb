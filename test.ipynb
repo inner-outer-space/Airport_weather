{
 "cells": [
  {
   "cell_type": "code",
   "execution_count": null,
   "metadata": {},
   "outputs": [],
   "source": [
    "import pandas as pd\n",
    "import numpy as np\n",
    "import json as js\n",
    "import requests as rq"
   ]
  },
  {
   "cell_type": "code",
   "execution_count": null,
   "metadata": {},
   "outputs": [],
   "source": [
    "# get a test dataset\n",
    "airport_code = \"LATI\"\n",
    "res = rq.get(\"https://api.aviationapi.com/v1/weather/metar?apt=LATI\")\n",
    "data = res.json()\n",
    "data"
   ]
  },
  {
   "cell_type": "code",
   "execution_count": null,
   "metadata": {},
   "outputs": [],
   "source": [
    "print(\"Current weather at \")\n",
    "print(\"Temperature: \"+str(data[airport_code]['temp'])+\" C\")\n",
    "print(\"Wind speed: \"+str(data[airport_code]['wind_vel'])+\" m/s\")\n",
    "print(\"Wind direction: \"+str(data[airport_code]['wind'])+\" degrees\")\n",
    "print(\"Visibility: \"+str(data[airport_code]['visibility'])+\" %\")\n",
    "print(\"Pressure: \"+str(data[airport_code]['alt_hg'])+\" hPa\")\n",
    "print(\"Dew Point: \"+str(data[airport_code]['dewpoint'])+\" C\")"
   ]
  },
  {
   "cell_type": "code",
   "execution_count": null,
   "metadata": {},
   "outputs": [],
   "source": [
    "#dict=js.loads(data)\n",
    "df = pd.DataFrame(data)\n",
    "\n",
    "df"
   ]
  },
  {
   "cell_type": "code",
   "execution_count": 26,
   "metadata": {},
   "outputs": [
    {
     "data": {
      "text/html": [
       "<div>\n",
       "<style scoped>\n",
       "    .dataframe tbody tr th:only-of-type {\n",
       "        vertical-align: middle;\n",
       "    }\n",
       "\n",
       "    .dataframe tbody tr th {\n",
       "        vertical-align: top;\n",
       "    }\n",
       "\n",
       "    .dataframe thead th {\n",
       "        text-align: right;\n",
       "    }\n",
       "</style>\n",
       "<table border=\"1\" class=\"dataframe\">\n",
       "  <thead>\n",
       "    <tr style=\"text-align: right;\">\n",
       "      <th></th>\n",
       "      <th>Airport</th>\n",
       "      <th>Country</th>\n",
       "      <th>IATA</th>\n",
       "      <th>ICAO</th>\n",
       "    </tr>\n",
       "  </thead>\n",
       "  <tbody>\n",
       "    <tr>\n",
       "      <th>0</th>\n",
       "      <td>Tirana Airport</td>\n",
       "      <td>Albania</td>\n",
       "      <td>TIA</td>\n",
       "      <td>LATI</td>\n",
       "    </tr>\n",
       "    <tr>\n",
       "      <th>1</th>\n",
       "      <td>Yerevan Zvartnots Airport</td>\n",
       "      <td>Armenia</td>\n",
       "      <td>EVN</td>\n",
       "      <td>UDYZ</td>\n",
       "    </tr>\n",
       "    <tr>\n",
       "      <th>2</th>\n",
       "      <td>Graz Airport</td>\n",
       "      <td>Austria</td>\n",
       "      <td>GRZ</td>\n",
       "      <td>LOWG</td>\n",
       "    </tr>\n",
       "    <tr>\n",
       "      <th>3</th>\n",
       "      <td>Innsbruck Airport</td>\n",
       "      <td>Austria</td>\n",
       "      <td>INN</td>\n",
       "      <td>LOWI</td>\n",
       "    </tr>\n",
       "    <tr>\n",
       "      <th>4</th>\n",
       "      <td>Klagenfurt Airport</td>\n",
       "      <td>Austria</td>\n",
       "      <td>KLU</td>\n",
       "      <td>LOWK</td>\n",
       "    </tr>\n",
       "  </tbody>\n",
       "</table>\n",
       "</div>"
      ],
      "text/plain": [
       "                     Airport  Country IATA  ICAO\n",
       "0             Tirana Airport  Albania  TIA  LATI\n",
       "1  Yerevan Zvartnots Airport  Armenia  EVN  UDYZ\n",
       "2               Graz Airport  Austria  GRZ  LOWG\n",
       "3          Innsbruck Airport  Austria  INN  LOWI\n",
       "4         Klagenfurt Airport  Austria  KLU  LOWK"
      ]
     },
     "execution_count": 26,
     "metadata": {},
     "output_type": "execute_result"
    }
   ],
   "source": [
    "airport_lookup = pd.read_csv(\"airport_codes.csv\")\n",
    "airport_lookup.head()"
   ]
  },
  {
   "cell_type": "code",
   "execution_count": 31,
   "metadata": {},
   "outputs": [
    {
     "data": {
      "text/plain": [
       "'LJU'"
      ]
     },
     "execution_count": 31,
     "metadata": {},
     "output_type": "execute_result"
    }
   ],
   "source": [
    "airport = \"Ljubljana Airport\"\n",
    "\n",
    "airport_code = airport_lookup[airport_lookup['Airport']==airport]['IATA'].values[0]\n",
    "\n",
    "\n",
    "\n",
    "#airport_code = pd.DataFrame(airport_code)\n",
    "#airport_code_num = airport_code['IATA'].values[0]\n",
    "\n",
    "airport_code"
   ]
  },
  {
   "cell_type": "code",
   "execution_count": null,
   "metadata": {},
   "outputs": [],
   "source": [
    "airport_code = \"CLZ\"\n",
    "\n",
    "# Get the weather data from the API\n",
    "url = \"http://api.openweathermap.org/data/2.5/weather?q=\"+airport_code+\",uk&appid=API_KEY\"\n",
    "response = rq.get(url)\n",
    "data = js.loads(response.text)\n",
    "# Display the weather data\n",
    "st.subheader(\"Current weather at \"+airport)\n",
    "st.write(\"Temperature: \"+str(data['main']['temp'])+\" K\")\n",
    "st.write(\"Wind speed: \"+str(data['wind']['speed'])+\" m/s\")\n",
    "st.write(\"Wind direction: \"+str(data['wind']['deg'])+\" degrees\")\n",
    "st.write(\"Cloud cover: \"+str(data['clouds']['all'])+\" %\")\n",
    "st.write(\"Pressure: \"+str(data['main']['pressure'])+\" hPa\")\n",
    "st.write(\"Humidity: \"+str(data['main']['humidity'])+\" %\")"
   ]
  },
  {
   "cell_type": "code",
   "execution_count": null,
   "metadata": {},
   "outputs": [],
   "source": [
    "API_KEY = 'a8ce70892831dbf4b510ee05373ab775'\n",
    "airport_code = \"UDYZ\"   \n",
    "\n",
    "# Get the weather data from the API\n",
    "url = \"http://api.openweathermap.org/data/2.5/weather?q=\"+airport_code+\",uk&appid=API_KEY\"\n",
    "response = rq.get(url)\n",
    "data2 = js.loads(response.text)\n",
    "data2\n",
    "#df = pd.DataFrame(data)\n",
    "#df.head()\n",
    "# Display the weather data\n",
    "# print(\"Current weather at \")\n",
    "# print(\"Temperature: \"+str(data['main']['temp'])+\" K\")\n",
    "# print(\"Wind speed: \"+str(data['wind']['speed'])+\" m/s\")\n",
    "# print(\"Wind direction: \"+str(data['wind']['deg'])+\" degrees\")\n",
    "# print(\"Cloud cover: \"+str(data['clouds']['all'])+\" %\")\n",
    "# print(\"Pressure: \"+str(data['main']['pressure'])+\" hPa\")\n",
    "# print(\"Humidity: \"+str(data['main']['humidity'])+\" %\")"
   ]
  }
 ],
 "metadata": {
  "kernelspec": {
   "display_name": "Airport_weather-TwCcYFe0",
   "language": "python",
   "name": "python3"
  },
  "language_info": {
   "codemirror_mode": {
    "name": "ipython",
    "version": 3
   },
   "file_extension": ".py",
   "mimetype": "text/x-python",
   "name": "python",
   "nbconvert_exporter": "python",
   "pygments_lexer": "ipython3",
   "version": "3.10.6"
  },
  "orig_nbformat": 4,
  "vscode": {
   "interpreter": {
    "hash": "bcbd7a7a72baf52f48f1ed2cac6ea2255332d1ebfc3d04375360edd9eef4ce1a"
   }
  }
 },
 "nbformat": 4,
 "nbformat_minor": 2
}
